{
  "nbformat": 4,
  "nbformat_minor": 0,
  "metadata": {
    "colab": {
      "provenance": []
    },
    "kernelspec": {
      "name": "python3",
      "display_name": "Python 3"
    },
    "language_info": {
      "name": "python"
    }
  },
  "cells": [
    {
      "cell_type": "markdown",
      "source": [
        "Я сделала задания А и В вместо С и с Николаем согласовала (если вдруг не Николай проверяет))))"
      ],
      "metadata": {
        "id": "qyO5W0OV9VSK"
      }
    },
    {
      "cell_type": "code",
      "execution_count": 3,
      "metadata": {
        "id": "xK16l39LhaaI"
      },
      "outputs": [],
      "source": [
        "# Класс, который будет родителем растворов - Цианида Натрия и Железного купороса\n",
        "class Solution:\n",
        "\n",
        "    def __init__(self, concentration: float, purity: float):\n",
        "        self.concentration = concentration\n",
        "        self.purity = purity\n",
        "\n",
        "    def __init__(self):\n",
        "        self.concentration = 0\n",
        "        self.purity = 1\n",
        "\n",
        "\n",
        "# Класс для цианида натрия\n",
        "class NaCN(Solution):\n",
        "    def purity_test(self):\n",
        "        # Проверка норм ли раствор по примесям\n",
        "        pass\n",
        "\n",
        "    def concentration_test(self):\n",
        "        # Проверка норм ли раствор по концентрации\n",
        "        pass\n",
        "\n",
        "\n",
        "# Класс для железного купороса\n",
        "class FeSO43(Solution):\n",
        "    def purity_test(self):\n",
        "        # Проверка норм ли раствор по примесям\n",
        "        pass\n",
        "\n",
        "    def concentration_test(self):\n",
        "        # Проверка норм ли раствор по концентрации\n",
        "        pass\n",
        "\n",
        "\n",
        "# Класс для фильтра\n",
        "class Filter:\n",
        "    def __init__(self, firm: str):\n",
        "        self.deterioration = 0\n",
        "        self.firm = firm\n",
        "\n",
        "    def pollution(self) -> float:\n",
        "        c = 0.5\n",
        "        return self.deterioration * c\n",
        "        # Считаем, насколько загрязняет этот фильтр\n",
        "\n",
        "    def change(self):\n",
        "        if self.deterioration >= 80:\n",
        "            print(\"Заменяй фильтр\")\n",
        "        else:\n",
        "            print(\"Да норм все, работаем\")\n",
        "\n",
        "# Класс для бача\n",
        "class Batch:\n",
        "    def __init__(self, nacn: NaCN, feso43: FeSO43, mass: float, filter: Filter, purity: float):\n",
        "        self.nacn = nacn\n",
        "        self.purity = purity\n",
        "        self.feso43 = feso43\n",
        "        self.mass = mass\n",
        "        self.filter = filter\n",
        "\n",
        "    def grinding(self):\n",
        "      #меняем массу после измельчения\n",
        "      pass\n",
        "    def cian(self, n: NaCN, f: FeSO43):\n",
        "      #меняем массу и purity после цианирования\n",
        "      pass\n",
        "    def cleansing(self, filt: Filter):\n",
        "      #меняем массу и purity после очистки\n",
        "      pass\n",
        "\n"
      ]
    },
    {
      "cell_type": "code",
      "source": [
        "from typing import List\n",
        "\n",
        "class Point:\n",
        "  def __init__(self, x: float, y: float, z: float):\n",
        "    self.x = x\n",
        "    self.y = y\n",
        "    self.z = z\n",
        "\n",
        "\n",
        "class Cars:\n",
        "  def __init__(self, process: bool, route: List[Point], point: Point, id: int):\n",
        "    self.process = process\n",
        "    self.point = point\n",
        "    self.route = route\n",
        "    self.id = id\n",
        "  def send(self, route: List[Point], point: Point):\n",
        "    self.process = True\n",
        "    self.point = point\n",
        "    self.route = route\n",
        "  def return_back(self):\n",
        "    self.process = False\n",
        "    self.point = None\n",
        "    self.route = []\n",
        "\n",
        "\n",
        "class Drilling(Cars):\n",
        "  def do_drill(self, const):\n",
        "    #делаем бурение\n",
        "    pass\n",
        "\n",
        "class Cartograghy(Cars):\n",
        "  def do_map(self):\n",
        "    #делаем картууууу\n",
        "    pass\n",
        "\n",
        "\n",
        "class Inspection(Cars):\n",
        "\n",
        "  def capture(self):\n",
        "    #фотографируем\n",
        "    pass\n",
        "\n",
        "  def calculate_wear(self):\n",
        "    #оцениваем крепь\n",
        "    pass\n",
        "\n"
      ],
      "metadata": {
        "id": "RdFWwVkj4v6P"
      },
      "execution_count": 4,
      "outputs": []
    },
    {
      "cell_type": "code",
      "source": [],
      "metadata": {
        "id": "R5WGi9No1bsl"
      },
      "execution_count": null,
      "outputs": []
    }
  ]
}